{
 "cells": [
  {
   "cell_type": "markdown",
   "metadata": {},
   "source": [
    "## Numpy Array Operations.....\n",
    "numpy arrays are immutable"
   ]
  },
  {
   "cell_type": "code",
   "execution_count": 1,
   "metadata": {},
   "outputs": [],
   "source": [
    "import numpy as np\n"
   ]
  },
  {
   "cell_type": "markdown",
   "metadata": {},
   "source": [
    "## Indexing And Slicing"
   ]
  },
  {
   "cell_type": "code",
   "execution_count": 2,
   "metadata": {},
   "outputs": [
    {
     "name": "stdout",
     "output_type": "stream",
     "text": [
      "Basic Slicing [3 4 5 6 7]\n",
      "With Step [2 4 6 8]\n",
      "Negative indexing 8 [5 6 7]\n"
     ]
    }
   ],
   "source": [
    "arr = np.array([1, 2, 3, 4, 5, 6, 7, 8, 9, 10])\n",
    "print(\"Basic Slicing\", arr[2:7])\n",
    "print(\"With Step\", arr[1:8:2])\n",
    "print(\"Negative indexing\", arr[-3],arr[-6:-3])"
   ]
  },
  {
   "cell_type": "code",
   "execution_count": 7,
   "metadata": {},
   "outputs": [
    {
     "name": "stdout",
     "output_type": "stream",
     "text": [
      "A particular index:  7\n",
      "entire row:  [ 9 10 11 12]\n",
      "entire column:  [ 3  7 11]\n"
     ]
    }
   ],
   "source": [
    "arr_2d=np.array([[1,2,3,4],[5,6,7,8],[9,10,11,12]])\n",
    "print(\"A particular index: \",arr_2d[1,2])\n",
    "print(\"entire row: \",arr_2d[2])\n",
    "print(\"entire column: \",arr_2d[:,2])\n",
    "\n"
   ]
  },
  {
   "cell_type": "markdown",
   "metadata": {},
   "source": [
    "## Sorting"
   ]
  },
  {
   "cell_type": "code",
   "execution_count": 10,
   "metadata": {},
   "outputs": [
    {
     "name": "stdout",
     "output_type": "stream",
     "text": [
      "Sorted Array [1 1 2 3 4 5 6 9]\n",
      "Sorting of 2D array by column:  [[1 6 2]\n",
      " [4 7 3]\n",
      " [5 9 8]]\n",
      "Sorting of 2D array by row:  [[1 3 7]\n",
      " [2 4 6]\n",
      " [5 8 9]]\n"
     ]
    }
   ],
   "source": [
    "unsorted = np.array([3, 1, 4, 1, 5, 9, 2, 6])\n",
    "print(\"Sorted Array\", np.sort(unsorted))\n",
    "\n",
    "unsorted_arr_2d=np.array([[1,7,3],[4,6,2],[5,9,8]])\n",
    "print(\"Sorting of 2D array by column: \",np.sort(unsorted_arr_2d,axis=0))\n",
    "print(\"Sorting of 2D array by row: \",np.sort(unsorted_arr_2d,axis=1))"
   ]
  },
  {
   "cell_type": "markdown",
   "metadata": {},
   "source": [
    "## Filter"
   ]
  },
  {
   "cell_type": "code",
   "execution_count": 16,
   "metadata": {},
   "outputs": [
    {
     "name": "stdout",
     "output_type": "stream",
     "text": [
      "Even numbers:  [4 2 6]\n"
     ]
    }
   ],
   "source": [
    "numbers=np.array([3, 1, 4, 1, 5, 9, 2, 6])\n",
    "even_numbers=numbers[numbers %2==0]\n",
    "print(\"Even numbers: \",even_numbers)\n"
   ]
  },
  {
   "cell_type": "markdown",
   "metadata": {},
   "source": [
    "## Filter with mask\n"
   ]
  },
  {
   "cell_type": "code",
   "execution_count": 17,
   "metadata": {},
   "outputs": [
    {
     "name": "stdout",
     "output_type": "stream",
     "text": [
      "Odd numbers by mask:  [3 1 1 5 9]\n"
     ]
    }
   ],
   "source": [
    "mask=numbers %2 !=0\n",
    "print(\"Odd numbers by mask: \",numbers[mask])"
   ]
  },
  {
   "cell_type": "markdown",
   "metadata": {},
   "source": [
    "## Fancy indexing vs np.where()"
   ]
  },
  {
   "cell_type": "code",
   "execution_count": 20,
   "metadata": {},
   "outputs": [
    {
     "name": "stdout",
     "output_type": "stream",
     "text": [
      "Fancy indexing:  [1 5 4]\n",
      "Np where:  [1 1 2]\n"
     ]
    }
   ],
   "source": [
    "indices=[1,4,2]\n",
    "print(\"Fancy indexing: \",numbers[indices])\n",
    "np_where=np.where(numbers<3)\n",
    "print(\"Np where: \",numbers[np_where])"
   ]
  },
  {
   "cell_type": "code",
   "execution_count": 24,
   "metadata": {},
   "outputs": [
    {
     "name": "stdout",
     "output_type": "stream",
     "text": [
      "[ 0  1  2  3  4  5 24 28 32 36 40]\n",
      "['false' 'false' 'false' 'false' 'false' 'true' 'true' 'true' 'true'\n",
      " 'true' 'true']\n"
     ]
    }
   ],
   "source": [
    "numbers1=np.arange(11)\n",
    "condition_array=np.where(numbers1>5,numbers1*4,numbers1)\n",
    "print(condition_array)\n",
    "# if(numbers1>5):\n",
    "#     numbers1*4\n",
    "# else:\n",
    "#     numbers1\n",
    "\n",
    "condition_array1=np.where(numbers1>4,\"true\",\"false\")\n",
    "print(condition_array1)\n",
    "# if(numbers1>4):\n",
    "#     print(\"true\")\n",
    "# else:\n",
    "#     print(\"false\")"
   ]
  },
  {
   "cell_type": "markdown",
   "metadata": {},
   "source": [
    "## Adding and Removing data"
   ]
  },
  {
   "cell_type": "code",
   "execution_count": 42,
   "metadata": {},
   "outputs": [
    {
     "name": "stdout",
     "output_type": "stream",
     "text": [
      "Combined array:  [0 1 2 3 4 5 6]\n",
      "[0 1 2 3 6]\n",
      "[ 0 10  1  2  3]\n",
      "[0 5 6 7 8 1 2 3]\n",
      "[0 1 3]\n",
      "[[1 2]\n",
      " [5 6]]\n"
     ]
    }
   ],
   "source": [
    "arr1=np.arange(4)\n",
    "arr2=np.array([4,5,6])\n",
    "combined=np.concatenate((arr1,arr2))\n",
    "print(\"Combined array: \",combined)\n",
    "\n",
    "arr3=np.append(arr1,[6])\n",
    "print(arr3)\n",
    "\n",
    "arr4=np.insert(arr1,1,10)\n",
    "print(arr4)\n",
    "\n",
    "arr5=np.insert(arr1,1,[5,6,7,8],axis=0)\n",
    "print(arr5)\n",
    "\n",
    "\n",
    "new_arr = np.delete(arr1, 2)  # Remove element at index 2\n",
    "print(new_arr)  \n",
    "\n",
    "arr2D = np.array([[1, 2], [3, 4], [5, 6]])\n",
    "new_arr2D = np.delete(arr2D, 1, axis=0)  # Remove second row\n",
    "print(new_arr2D)\n",
    "# Output:\n",
    "# [[1 2]\n",
    "#  [5 6]]\n",
    "\n"
   ]
  },
  {
   "cell_type": "markdown",
   "metadata": {},
   "source": [
    "## Array compatibility\n"
   ]
  },
  {
   "cell_type": "code",
   "execution_count": 28,
   "metadata": {},
   "outputs": [
    {
     "name": "stdout",
     "output_type": "stream",
     "text": [
      "Compatibility check:  False\n"
     ]
    }
   ],
   "source": [
    "a=np.array([1,2,3])\n",
    "b=np.array([4,5,6,10])\n",
    "c=np.array([7,8,9])\n",
    "\n",
    "print(\"Compatibility check: \",a.shape==b.shape)\n"
   ]
  },
  {
   "cell_type": "markdown",
   "metadata": {},
   "source": [
    "## Adding new row or new column"
   ]
  },
  {
   "cell_type": "code",
   "execution_count": 31,
   "metadata": {},
   "outputs": [
    {
     "name": "stdout",
     "output_type": "stream",
     "text": [
      "Updated array with new row:  [[1 2]\n",
      " [3 4]\n",
      " [5 6]]\n",
      "Updated array with new column:  [[ 1  2  7  8]\n",
      " [ 3  4  9 10]]\n"
     ]
    }
   ],
   "source": [
    "original=np.array([[1,2],[3,4]])\n",
    "new_row=np.array([5,6])\n",
    "updated_original_withrow=np.vstack((original,new_row))\n",
    "print(\"Updated array with new row: \",updated_original_withrow)\n",
    "\n",
    "new_column=np.array([[7,8],[9,10]])\n",
    "updated_original_withcolumn=np.hstack((original,new_column))\n",
    "\n",
    "print(\"Updated array with new column: \",updated_original_withcolumn)\n"
   ]
  }
 ],
 "metadata": {
  "kernelspec": {
   "display_name": "venv",
   "language": "python",
   "name": "python3"
  },
  "language_info": {
   "codemirror_mode": {
    "name": "ipython",
    "version": 3
   },
   "file_extension": ".py",
   "mimetype": "text/x-python",
   "name": "python",
   "nbconvert_exporter": "python",
   "pygments_lexer": "ipython3",
   "version": "3.13.2"
  }
 },
 "nbformat": 4,
 "nbformat_minor": 2
}
