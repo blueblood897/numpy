{
 "cells": [
  {
   "cell_type": "markdown",
   "metadata": {},
   "source": [
    "## Numpy array and basics"
   ]
  },
  {
   "cell_type": "code",
   "execution_count": 1,
   "metadata": {},
   "outputs": [],
   "source": [
    "import numpy as np"
   ]
  },
  {
   "cell_type": "markdown",
   "metadata": {},
   "source": [
    "## Creating Array from Lists"
   ]
  },
  {
   "cell_type": "code",
   "execution_count": 3,
   "metadata": {},
   "outputs": [
    {
     "name": "stdout",
     "output_type": "stream",
     "text": [
      "1d array:  [1 2 3 4 5 6]\n",
      "2d array:  [[1 2 3 4]\n",
      " [5 6 7 8]]\n"
     ]
    }
   ],
   "source": [
    "array_1d=np.array([1,2,3,4,5,6])\n",
    "print(\"1d array: \",array_1d)\n",
    "array_2d=np.array([[1,2,3,4],[5,6,7,8]])\n",
    "print(\"2d array: \",array_2d)\n",
    "\n"
   ]
  },
  {
   "cell_type": "markdown",
   "metadata": {},
   "source": [
    "## List vs Numpy array"
   ]
  },
  {
   "cell_type": "code",
   "execution_count": 11,
   "metadata": {},
   "outputs": [
    {
     "name": "stdout",
     "output_type": "stream",
     "text": [
      "Multiplication of list [1, 2, 3, 4, 5, 1, 2, 3, 4, 5]\n",
      "Multiplication of numpy array [ 2  4  6  8 10]\n",
      "Time taken for list 0.10463380813598633\n",
      "Time taken for numpy array 0.003025054931640625\n"
     ]
    }
   ],
   "source": [
    "py_list=[1,2,3,4,5]\n",
    "print(\"Multiplication of list\",py_list*2)\n",
    "numpy_array=np.array([1,2,3,4,5])\n",
    "print(\"Multiplication of numpy array\",numpy_array*2)\n",
    "\n",
    "import time\n",
    "start=time.time()\n",
    "py_list1=[i*2 for i in range(1000000)]\n",
    "print(\"Time taken for list\",time.time()-start)\n",
    "start1=time.time()\n",
    "numpy_array1=np.arange(1000000)\n",
    "print(\"Time taken for numpy array\",time.time()-start1)\n",
    "# start2=time.time()\n",
    "# numpy_array2=np.array([i*2 for i in range(1000000)])\n",
    "# print(\"Time taken for numpy array2\",time.time()-start1)\n",
    "\n"
   ]
  },
  {
   "cell_type": "markdown",
   "metadata": {},
   "source": [
    "## Creating array from scratch"
   ]
  },
  {
   "cell_type": "code",
   "execution_count": 13,
   "metadata": {},
   "outputs": [
    {
     "name": "stdout",
     "output_type": "stream",
     "text": [
      "Zero matrix:  [[0. 0. 0. 0. 0.]\n",
      " [0. 0. 0. 0. 0.]\n",
      " [0. 0. 0. 0. 0.]\n",
      " [0. 0. 0. 0. 0.]]\n",
      "Matrix of ones:  [[1. 1. 1.]\n",
      " [1. 1. 1.]\n",
      " [1. 1. 1.]]\n",
      "Matrix of constants:  [[8 8 8]\n",
      " [8 8 8]\n",
      " [8 8 8]]\n",
      "Matrix of randoms:  [[0.61093177 0.77449681 0.4816446 ]\n",
      " [0.69370662 0.93157963 0.61958462]]\n",
      "Sequence matrix:  [2 4 6 8]\n"
     ]
    }
   ],
   "source": [
    "zero=np.zeros((4,5))\n",
    "print(\"Zero matrix: \",zero)\n",
    "one=np.ones((3,3))\n",
    "print(\"Matrix of ones: \",one)\n",
    "constant=np.full((3,3),8)\n",
    "print(\"Matrix of constants: \",constant)\n",
    "random=np.random.random((2,3))\n",
    "print(\"Matrix of randoms: \",random)\n",
    "sequence=np.arange(2,10,2)\n",
    "print(\"Sequence matrix: \",sequence)\n",
    "\n",
    "\n",
    "\n"
   ]
  },
  {
   "cell_type": "markdown",
   "metadata": {},
   "source": [
    "## Vector,Matrix,Tensor"
   ]
  },
  {
   "cell_type": "code",
   "execution_count": 15,
   "metadata": {},
   "outputs": [
    {
     "name": "stdout",
     "output_type": "stream",
     "text": [
      "Vector:  [1 2 3 4]\n",
      "Vector:  [[1 2 3]\n",
      " [4 5 6]]\n",
      "Tensor:  [[[1 2]\n",
      "  [3 4]]\n",
      "\n",
      " [[5 6]\n",
      "  [7 8]]]\n"
     ]
    }
   ],
   "source": [
    "Vector=np.array([1,2,3,4])\n",
    "print(\"Vector: \",Vector)\n",
    "Array=np.array([[1,2,3],[4,5,6]])\n",
    "print(\"Vector: \",Array)\n",
    "# Tensor:multidimensional array\n",
    "Tensor=np.array([[[1,2],[3,4]],[[5,6],[7,8]]]) \n",
    "print(\"Tensor: \",Tensor)"
   ]
  },
  {
   "cell_type": "markdown",
   "metadata": {},
   "source": [
    "## Array properties\n"
   ]
  },
  {
   "cell_type": "code",
   "execution_count": 18,
   "metadata": {},
   "outputs": [
    {
     "name": "stdout",
     "output_type": "stream",
     "text": [
      "Shape of array: (2, 3)\n",
      "Dimension of array: 2\n",
      "Size of array: 6\n",
      "Dtype of array: int64\n"
     ]
    }
   ],
   "source": [
    "arr=np.array([[1,2,3],[4,5,6]])\n",
    "print(\"Shape of array:\",arr.shape)\n",
    "print(\"Dimension of array:\",arr.ndim)\n",
    "print(\"Size of array:\",arr.size)\n",
    "print(\"Dtype of array:\",arr.dtype)\n",
    "\n",
    "# arr=np.array([[1,2,3],[4,5,True]])\n",
    "# print(\"Shape of array:\",arr.shape)\n",
    "# print(\"Dimension of array:\",arr.ndim)\n",
    "# print(\"Size of array:\",arr.size)\n",
    "# print(\"Dtype of array:\",arr.dtype)\n",
    "\n",
    "# arr=np.array([[1,2,3],[4,5,6.9]])\n",
    "# print(\"Shape of array:\",arr.shape)\n",
    "# print(\"Dimension of array:\",arr.ndim)\n",
    "# print(\"Size of array:\",arr.size)\n",
    "# print(\"Dtype of array:\",arr.dtype)\n",
    "\n",
    "# arr=np.array([[1,2,3],[4,5,\"6\"]])\n",
    "# print(\"Shape of array:\",arr.shape)\n",
    "# print(\"Dimension of array:\",arr.ndim)\n",
    "# print(\"Size of array:\",arr.size)\n",
    "# print(\"Dtype of array:\",arr.dtype)"
   ]
  },
  {
   "cell_type": "markdown",
   "metadata": {},
   "source": [
    "## Array reshaping\n"
   ]
  },
  {
   "cell_type": "code",
   "execution_count": 24,
   "metadata": {},
   "outputs": [
    {
     "name": "stdout",
     "output_type": "stream",
     "text": [
      "An array:  [ 0  1  2  3  4  5  6  7  8  9 10 11]\n",
      "Reshaped array:  [[ 0  1  2  3]\n",
      " [ 4  5  6  7]\n",
      " [ 8  9 10 11]]\n",
      "flattened array:  [ 0  1  2  3  4  5  6  7  8  9 10 11]\n",
      "raveled array:  [ 0  1  2  3  4  5  6  7  8  9 10 11]\n",
      "transpose array:  [[ 0  4  8]\n",
      " [ 1  5  9]\n",
      " [ 2  6 10]\n",
      " [ 3  7 11]]\n"
     ]
    }
   ],
   "source": [
    "Test=np.arange(12)\n",
    "print(\"An array: \",Test)\n",
    "Reshaped=Test.reshape((3,4))\n",
    "print(\"Reshaped array: \",Reshaped)\n",
    "\n",
    "# ravel(): Returns a view of the original array if possible (does not create a new array unless necessary).\n",
    "# flatten(): Always returns a copy of the original array.\n",
    "# ravel() is more memory-efficient because it avoids creating a new array when possible.\n",
    "# flatten() requires extra memory as it always returns a new copy.\n",
    "# Since ravel() returns a view (when possible), modifying the returned array may change the original array.\n",
    "# flatten() returns a copy, so modifications to the new array do not affect the original\n",
    "Flattened=Reshaped.flatten()\n",
    "print(\"flattened array: \",Flattened)\n",
    "raveled=Reshaped.ravel()\n",
    "print(\"raveled array: \",raveled)\n",
    "\n",
    "\n",
    "Transpose=Reshaped.T\n",
    "print(\"transpose array: \",Transpose)\n",
    "\n"
   ]
  }
 ],
 "metadata": {
  "kernelspec": {
   "display_name": "venv",
   "language": "python",
   "name": "python3"
  },
  "language_info": {
   "codemirror_mode": {
    "name": "ipython",
    "version": 3
   },
   "file_extension": ".py",
   "mimetype": "text/x-python",
   "name": "python",
   "nbconvert_exporter": "python",
   "pygments_lexer": "ipython3",
   "version": "3.13.2"
  }
 },
 "nbformat": 4,
 "nbformat_minor": 2
}
